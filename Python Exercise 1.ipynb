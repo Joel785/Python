{
 "cells": [
  {
   "cell_type": "code",
   "execution_count": 8,
   "id": "3e9af8a8-0563-4271-aa4b-284f8bf9be6e",
   "metadata": {},
   "outputs": [
    {
     "name": "stdout",
     "output_type": "stream",
     "text": [
      "Updated file saved as 'sales_updated.csv'\n"
     ]
    }
   ],
   "source": [
    "\"\"\"\n",
    "Script to read sales data from 'sales_24.csv', round down numeric 'Amount' values,\n",
    "and write the cleaned data to 'sales_updated.csv'. Non-numeric Amount values are retained as is.\n",
    "\"\"\"\n",
    "\n",
    "import csv  \n",
    "import math \n",
    "# Open input and output CSV files\n",
    "with open(\"sales_24.csv\", \"r\") as infile, open(\"sales_updated.csv\", \"w\", newline='') as outfile:\n",
    "    reader = csv.DictReader(infile) \n",
    "    writer = csv.DictWriter(outfile, fieldnames=reader.fieldnames)  \n",
    "    writer.writeheader()\n",
    "    for row in reader:\n",
    "        amount = row[\"Amount\"]\n",
    "        if amount.replace('.', '').isdigit():  \n",
    "            row[\"Amount\"] = math.floor(float(amount)) \n",
    "        else:\n",
    "            row[\"Amount\"] = amount  \n",
    "        writer.writerow(row)  \n",
    "print(\"Updated file saved as 'sales_updated.csv'\")\n"
   ]
  },
  {
   "cell_type": "code",
   "execution_count": null,
   "id": "f99f55c9-1779-4a1f-98e9-bb1c80fa3eaa",
   "metadata": {},
   "outputs": [],
   "source": []
  }
 ],
 "metadata": {
  "kernelspec": {
   "display_name": "Python 3 (ipykernel)",
   "language": "python",
   "name": "python3"
  },
  "language_info": {
   "codemirror_mode": {
    "name": "ipython",
    "version": 3
   },
   "file_extension": ".py",
   "mimetype": "text/x-python",
   "name": "python",
   "nbconvert_exporter": "python",
   "pygments_lexer": "ipython3",
   "version": "3.10.12"
  }
 },
 "nbformat": 4,
 "nbformat_minor": 5
}
